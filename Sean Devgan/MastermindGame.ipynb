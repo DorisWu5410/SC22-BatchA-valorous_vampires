{
 "cells": [
  {
   "cell_type": "code",
   "execution_count": 2,
   "metadata": {
    "cocalc": {
     "outputs": {
      "1": {
       "name": "input",
       "opts": {
        "password": false,
        "prompt": "None"
       },
       "output_type": "stream",
       "value": "1111"
      },
      "11": {
       "name": "input",
       "opts": {
        "password": false,
        "prompt": "None"
       },
       "output_type": "stream",
       "value": "5453"
      },
      "13": {
       "name": "input",
       "opts": {
        "password": false,
        "prompt": "None"
       },
       "output_type": "stream",
       "value": "6463"
      },
      "15": {
       "name": "input",
       "opts": {
        "password": false,
        "prompt": "None"
       },
       "output_type": "stream",
       "value": "7473"
      },
      "3": {
       "name": "input",
       "opts": {
        "password": false,
        "prompt": "None"
       },
       "output_type": "stream",
       "value": "2222"
      },
      "5": {
       "name": "input",
       "opts": {
        "password": false,
        "prompt": "None"
       },
       "output_type": "stream",
       "value": "0000"
      },
      "7": {
       "name": "input",
       "opts": {
        "password": false,
        "prompt": "None"
       },
       "output_type": "stream",
       "value": "3333"
      },
      "9": {
       "name": "input",
       "opts": {
        "password": false,
        "prompt": "None"
       },
       "output_type": "stream",
       "value": "4443"
      }
     }
    },
    "collapsed": false
   },
   "outputs": [
    {
     "name": "stdout",
     "output_type": "stream",
     "text": [
      "Welcome! Please try to guess our number. Choose any four digit number: \n"
     ]
    },
    {
     "name": "stdout",
     "output_type": "stream",
     "text": "None 1111"
    },
    {
     "name": "stdout",
     "output_type": "stream",
     "text": [
      "x\n",
      "x\n",
      "x\n",
      "x\n",
      "Not quite the number, but you did get 0 digits correct\n",
      "Enter your next guess: \n"
     ]
    },
    {
     "name": "stdout",
     "output_type": "stream",
     "text": "None 2222"
    },
    {
     "name": "stdout",
     "output_type": "stream",
     "text": [
      "x\n",
      "x\n",
      "x\n",
      "x\n",
      "Not quite the number, but you did get 0 digits correct\n",
      "Enter your next guess: \n"
     ]
    },
    {
     "name": "stdout",
     "output_type": "stream",
     "text": "None 0000"
    },
    {
     "name": "stdout",
     "output_type": "stream",
     "text": [
      "x\n",
      "x\n",
      "x\n",
      "x\n",
      "Not quite the number, but you did get 0 digits correct\n",
      "Enter your next guess: \n"
     ]
    },
    {
     "name": "stdout",
     "output_type": "stream",
     "text": "None 3333"
    },
    {
     "name": "stdout",
     "output_type": "stream",
     "text": [
      "x\n",
      "x\n",
      "x\n",
      "3\n",
      "Not quite the number, but you did get 1 digits correct\n",
      "Enter your next guess: \n"
     ]
    },
    {
     "name": "stdout",
     "output_type": "stream",
     "text": "None 4443"
    },
    {
     "name": "stdout",
     "output_type": "stream",
     "text": [
      "x\n",
      "4\n",
      "x\n",
      "3\n",
      "Not quite the number, but you did get 2 digits correct\n",
      "Enter your next guess: \n"
     ]
    },
    {
     "name": "stdout",
     "output_type": "stream",
     "text": "None 5453"
    },
    {
     "name": "stdout",
     "output_type": "stream",
     "text": [
      "x\n",
      "4\n",
      "x\n",
      "3\n",
      "Not quite the number, but you did get 2 digits correct\n",
      "Enter your next guess: \n"
     ]
    },
    {
     "name": "stdout",
     "output_type": "stream",
     "text": "None 6463"
    },
    {
     "name": "stdout",
     "output_type": "stream",
     "text": [
      "x\n",
      "4\n",
      "x\n",
      "3\n",
      "Not quite the number, but you did get 2 digits correct\n",
      "Enter your next guess: \n"
     ]
    },
    {
     "name": "stdout",
     "output_type": "stream",
     "text": "None 7473"
    },
    {
     "name": "stdout",
     "output_type": "stream",
     "text": [
      "You win! You've become a Mastermind! It took you only 7 tries to guess my hidden number.\n"
     ]
    }
   ],
   "source": [
    "import random\n",
    "\n",
    "\n",
    "def game():\n",
    "    count = 0\n",
    "    count2 = 0\n",
    "    num = random.randint(1000, 9999)\n",
    "    asdf = str(num)\n",
    "    user = input(print(\"Welcome! Please try to guess our number. Choose any four digit number: \"))\n",
    "    while (user == asdf) == False:\n",
    "        for i in range(0, 4):\n",
    "            if user[i] == asdf[i]:\n",
    "                print(user[i]),\n",
    "                count2 = count2 + 1\n",
    "            else:\n",
    "                print(\"x\"),\n",
    "        print(\"Not quite the number, but you did get \" + str(count2) + \" digits correct\")\n",
    "        count2 = 0\n",
    "        count = count + 1\n",
    "        user = (input(print(\"Enter your next guess: \")))\n",
    "    if user == asdf:\n",
    "        print(\"You win! You've become a Mastermind! It took you only \" + str(count) + \" tries to guess my hidden number.\")\n",
    "\n",
    "\n",
    "game()\n"
   ]
  },
  {
   "cell_type": "code",
   "execution_count": 0,
   "metadata": {
    "collapsed": false
   },
   "outputs": [
   ],
   "source": [
   ]
  }
 ],
 "metadata": {
  "kernelspec": {
   "display_name": "Python 3 (Ubuntu Linux)",
   "language": "python",
   "name": "python3-ubuntu",
   "resource_dir": "/usr/local/share/jupyter/kernels/python3-ubuntu"
  },
  "language_info": {
   "codemirror_mode": {
    "name": "ipython",
    "version": 3
   },
   "file_extension": ".py",
   "mimetype": "text/x-python",
   "name": "python",
   "nbconvert_exporter": "python",
   "pygments_lexer": "ipython3",
   "version": "3.8.10"
  }
 },
 "nbformat": 4,
 "nbformat_minor": 4
}