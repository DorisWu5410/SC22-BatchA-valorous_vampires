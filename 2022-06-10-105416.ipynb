{
 "cells": [
  {
   "cell_type": "code",
   "execution_count": 0,
   "metadata": {
    "collapsed": false
   },
   "outputs": [
   ],
   "source": [
    "def master_mind():\n",
    "    import random\n",
    "    a = str(random.randint(1000,9999))\n",
    "    why = []\n",
    "    while True:\n",
    "        response = input(\"Type a four digit number\")\n",
    "        why = []\n",
    "        for i in range(len(response)):\n",
    "            if response[i] != a[i]:\n",
    "                why.append(\"x\")\n",
    "            else:\n",
    "                why.append(\"o\")\n",
    "        if \"\".join(why) != \"oooo\":\n",
    "            print(\"Try Again\")\n",
    "        else:\n",
    "            print(\"Good Job\")\n",
    "            break\n",
    "        print(\"\".join(why))\n"
   ]
  },
  {
   "cell_type": "code",
   "execution_count": 6,
   "metadata": {
    "cocalc": {
     "outputs": {
      "0": {
       "name": "input",
       "opts": {
        "password": false,
        "prompt": "Type a four digit number"
       },
       "output_type": "stream",
       "value": "1234"
      },
      "10": {
       "name": "input",
       "opts": {
        "password": false,
        "prompt": "Type a four digit number"
       },
       "output_type": "stream",
       "value": "9795"
      },
      "11": {
       "name": "input",
       "opts": {
        "password": false,
        "prompt": "Type a four digit number"
       },
       "output_type": "stream"
      },
      "14": {
       "name": "input",
       "opts": {
        "password": false,
        "prompt": "Type a four digit number"
       },
       "output_type": "stream"
      },
      "2": {
       "name": "input",
       "opts": {
        "password": false,
        "prompt": "Type a four digit number"
       },
       "output_type": "stream",
       "value": "5555"
      },
      "4": {
       "name": "input",
       "opts": {
        "password": false,
        "prompt": "Type a four digit number"
       },
       "output_type": "stream",
       "value": "6665"
      },
      "5": {
       "name": "input",
       "opts": {
        "password": false,
        "prompt": "Type a four digit number"
       },
       "output_type": "stream"
      },
      "7": {
       "name": "input",
       "opts": {
        "password": false,
        "prompt": "Type a four digit number"
       },
       "output_type": "stream"
      }
     }
    },
    "collapsed": false
   },
   "outputs": [
    {
     "name": "stdout",
     "output_type": "stream",
     "text": "Type a four digit number 1234"
    },
    {
     "name": "stdout",
     "output_type": "stream",
     "text": [
      "Try Again\n",
      "xxxx\n"
     ]
    },
    {
     "name": "stdout",
     "output_type": "stream",
     "text": "Type a four digit number 5555"
    },
    {
     "name": "stdout",
     "output_type": "stream",
     "text": [
      "Try Again\n",
      "xxxo\n"
     ]
    },
    {
     "name": "stdout",
     "output_type": "stream",
     "text": "Type a four digit number 6665"
    },
    {
     "name": "stdout",
     "output_type": "stream",
     "text": "Type a four digit number "
    },
    {
     "name": "stdout",
     "output_type": "stream",
     "text": [
      "Try Again\n",
      "xxxo\n"
     ],
     "value": "7775"
    },
    {
     "name": "stdout",
     "output_type": "stream",
     "text": "Type a four digit number "
    },
    {
     "name": "stdout",
     "output_type": "stream",
     "text": [
      "Try Again\n",
      "xoxo\n"
     ],
     "value": "8785"
    },
    {
     "name": "stdout",
     "output_type": "stream",
     "text": [
      "Try Again\n",
      "xoxo\n"
     ]
    },
    {
     "name": "stdout",
     "output_type": "stream",
     "text": "Type a four digit number 9795"
    },
    {
     "name": "stdout",
     "output_type": "stream",
     "text": "Type a four digit number "
    },
    {
     "name": "stdout",
     "output_type": "stream",
     "text": [
      "Try Again\n",
      "xoxo\n"
     ],
     "value": "9705"
    },
    {
     "name": "stdout",
     "output_type": "stream",
     "text": [
      "Try Again\n",
      "xoxo\n"
     ]
    },
    {
     "name": "stdout",
     "output_type": "stream",
     "text": "Type a four digit number "
    }
   ],
   "source": [
    "master_mind()"
   ]
  },
  {
   "cell_type": "code",
   "execution_count": 0,
   "metadata": {
    "collapsed": false
   },
   "outputs": [
   ],
   "source": [
   ]
  }
 ],
 "metadata": {
  "kernelspec": {
   "display_name": "Python 3 (Ubuntu Linux)",
   "language": "python",
   "name": "python3-ubuntu",
   "resource_dir": "/usr/local/share/jupyter/kernels/python3-ubuntu"
  },
  "language_info": {
   "codemirror_mode": {
    "name": "ipython",
    "version": 3
   },
   "file_extension": ".py",
   "mimetype": "text/x-python",
   "name": "python",
   "nbconvert_exporter": "python",
   "pygments_lexer": "ipython3",
   "version": "3.8.10"
  }
 },
 "nbformat": 4,
 "nbformat_minor": 4
}